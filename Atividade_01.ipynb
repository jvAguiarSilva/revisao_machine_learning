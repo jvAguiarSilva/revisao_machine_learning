{
  "cells": [
    {
      "cell_type": "markdown",
      "id": "d2e476e1",
      "metadata": {
        "id": "d2e476e1"
      },
      "source": [
        "# ATIVIDADE 01 - Fundamentos de Aprendizagem de Máquina"
      ]
    },
    {
      "cell_type": "markdown",
      "id": "773125f0",
      "metadata": {
        "id": "773125f0"
      },
      "source": [
        "by *João Vitor Aguiar*"
      ]
    },
    {
      "cell_type": "markdown",
      "id": "a41f081f",
      "metadata": {
        "id": "a41f081f"
      },
      "source": [
        "# ESTUDANDO O DATASET"
      ]
    },
    {
      "cell_type": "markdown",
      "id": "ac48a30d",
      "metadata": {
        "id": "ac48a30d"
      },
      "source": [
        "## Imports"
      ]
    },
    {
      "cell_type": "code",
      "execution_count": null,
      "id": "810ce2f1",
      "metadata": {
        "id": "810ce2f1"
      },
      "outputs": [],
      "source": [
        "import numpy as np\n",
        "import pandas as pd\n",
        "import matplotlib.pyplot as plt \n",
        "import seaborn as sns\n",
        "%matplotlib inline"
      ]
    },
    {
      "cell_type": "code",
      "execution_count": null,
      "id": "c7aedaa3",
      "metadata": {
        "id": "c7aedaa3",
        "outputId": "41811b3f-52de-4053-c5b5-fdabf0446f21"
      },
      "outputs": [
        {
          "data": {
            "text/html": [
              "<div>\n",
              "<style scoped>\n",
              "    .dataframe tbody tr th:only-of-type {\n",
              "        vertical-align: middle;\n",
              "    }\n",
              "\n",
              "    .dataframe tbody tr th {\n",
              "        vertical-align: top;\n",
              "    }\n",
              "\n",
              "    .dataframe thead th {\n",
              "        text-align: right;\n",
              "    }\n",
              "</style>\n",
              "<table border=\"1\" class=\"dataframe\">\n",
              "  <thead>\n",
              "    <tr style=\"text-align: right;\">\n",
              "      <th></th>\n",
              "      <th>Unnamed: 0</th>\n",
              "      <th>col_0</th>\n",
              "      <th>col_1</th>\n",
              "      <th>col_2</th>\n",
              "      <th>col_3</th>\n",
              "      <th>col_4</th>\n",
              "      <th>col_5</th>\n",
              "      <th>col_6</th>\n",
              "      <th>col_7</th>\n",
              "      <th>col_8</th>\n",
              "      <th>...</th>\n",
              "      <th>col_103</th>\n",
              "      <th>col_104</th>\n",
              "      <th>col_105</th>\n",
              "      <th>col_106</th>\n",
              "      <th>col_107</th>\n",
              "      <th>col_108</th>\n",
              "      <th>col_109</th>\n",
              "      <th>col_110</th>\n",
              "      <th>col_111</th>\n",
              "      <th>targets</th>\n",
              "    </tr>\n",
              "  </thead>\n",
              "  <tbody>\n",
              "    <tr>\n",
              "      <th>0</th>\n",
              "      <td>0</td>\n",
              "      <td>9</td>\n",
              "      <td>1354</td>\n",
              "      <td>0</td>\n",
              "      <td>18</td>\n",
              "      <td>0</td>\n",
              "      <td>1</td>\n",
              "      <td>7</td>\n",
              "      <td>9</td>\n",
              "      <td>0</td>\n",
              "      <td>...</td>\n",
              "      <td>0</td>\n",
              "      <td>0</td>\n",
              "      <td>0</td>\n",
              "      <td>1</td>\n",
              "      <td>1</td>\n",
              "      <td>0</td>\n",
              "      <td>0</td>\n",
              "      <td>0</td>\n",
              "      <td>49</td>\n",
              "      <td>1</td>\n",
              "    </tr>\n",
              "    <tr>\n",
              "      <th>1</th>\n",
              "      <td>1</td>\n",
              "      <td>0</td>\n",
              "      <td>239</td>\n",
              "      <td>0</td>\n",
              "      <td>1</td>\n",
              "      <td>0</td>\n",
              "      <td>1</td>\n",
              "      <td>0</td>\n",
              "      <td>0</td>\n",
              "      <td>0</td>\n",
              "      <td>...</td>\n",
              "      <td>0</td>\n",
              "      <td>1</td>\n",
              "      <td>0</td>\n",
              "      <td>0</td>\n",
              "      <td>0</td>\n",
              "      <td>0</td>\n",
              "      <td>0</td>\n",
              "      <td>0</td>\n",
              "      <td>55</td>\n",
              "      <td>1</td>\n",
              "    </tr>\n",
              "    <tr>\n",
              "      <th>2</th>\n",
              "      <td>2</td>\n",
              "      <td>0</td>\n",
              "      <td>260</td>\n",
              "      <td>0</td>\n",
              "      <td>4</td>\n",
              "      <td>0</td>\n",
              "      <td>3</td>\n",
              "      <td>6</td>\n",
              "      <td>0</td>\n",
              "      <td>0</td>\n",
              "      <td>...</td>\n",
              "      <td>0</td>\n",
              "      <td>0</td>\n",
              "      <td>0</td>\n",
              "      <td>1</td>\n",
              "      <td>1</td>\n",
              "      <td>0</td>\n",
              "      <td>0</td>\n",
              "      <td>0</td>\n",
              "      <td>56</td>\n",
              "      <td>1</td>\n",
              "    </tr>\n",
              "    <tr>\n",
              "      <th>3</th>\n",
              "      <td>3</td>\n",
              "      <td>17</td>\n",
              "      <td>682</td>\n",
              "      <td>0</td>\n",
              "      <td>1</td>\n",
              "      <td>0</td>\n",
              "      <td>0</td>\n",
              "      <td>8</td>\n",
              "      <td>17</td>\n",
              "      <td>0</td>\n",
              "      <td>...</td>\n",
              "      <td>0</td>\n",
              "      <td>1</td>\n",
              "      <td>0</td>\n",
              "      <td>1</td>\n",
              "      <td>1</td>\n",
              "      <td>0</td>\n",
              "      <td>0</td>\n",
              "      <td>0</td>\n",
              "      <td>65</td>\n",
              "      <td>1</td>\n",
              "    </tr>\n",
              "    <tr>\n",
              "      <th>4</th>\n",
              "      <td>4</td>\n",
              "      <td>1</td>\n",
              "      <td>540</td>\n",
              "      <td>0</td>\n",
              "      <td>2</td>\n",
              "      <td>0</td>\n",
              "      <td>1</td>\n",
              "      <td>7</td>\n",
              "      <td>1</td>\n",
              "      <td>0</td>\n",
              "      <td>...</td>\n",
              "      <td>0</td>\n",
              "      <td>0</td>\n",
              "      <td>0</td>\n",
              "      <td>1</td>\n",
              "      <td>1</td>\n",
              "      <td>0</td>\n",
              "      <td>0</td>\n",
              "      <td>0</td>\n",
              "      <td>175</td>\n",
              "      <td>1</td>\n",
              "    </tr>\n",
              "  </tbody>\n",
              "</table>\n",
              "<p>5 rows × 114 columns</p>\n",
              "</div>"
            ],
            "text/plain": [
              "   Unnamed: 0  col_0  col_1  col_2  col_3  col_4  col_5  col_6  col_7  col_8  \\\n",
              "0           0      9   1354      0     18      0      1      7      9      0   \n",
              "1           1      0    239      0      1      0      1      0      0      0   \n",
              "2           2      0    260      0      4      0      3      6      0      0   \n",
              "3           3     17    682      0      1      0      0      8     17      0   \n",
              "4           4      1    540      0      2      0      1      7      1      0   \n",
              "\n",
              "   ...  col_103  col_104  col_105  col_106  col_107  col_108  col_109  \\\n",
              "0  ...        0        0        0        1        1        0        0   \n",
              "1  ...        0        1        0        0        0        0        0   \n",
              "2  ...        0        0        0        1        1        0        0   \n",
              "3  ...        0        1        0        1        1        0        0   \n",
              "4  ...        0        0        0        1        1        0        0   \n",
              "\n",
              "   col_110  col_111  targets  \n",
              "0        0       49        1  \n",
              "1        0       55        1  \n",
              "2        0       56        1  \n",
              "3        0       65        1  \n",
              "4        0      175        1  \n",
              "\n",
              "[5 rows x 114 columns]"
            ]
          },
          "execution_count": 2,
          "metadata": {},
          "output_type": "execute_result"
        }
      ],
      "source": [
        "# As colunas do dataframe estão enumeradas de 0 à 111, ou seja 112 colunas.\n",
        "\n",
        "df_estudo = pd.read_csv('fraud_detection_bank_dataset.csv')\n",
        "df_estudo.head()"
      ]
    },
    {
      "cell_type": "code",
      "execution_count": null,
      "id": "ca296c39",
      "metadata": {
        "id": "ca296c39",
        "outputId": "fec51ea6-60e5-4aa5-b434-5a12d43f6e1e"
      },
      "outputs": [
        {
          "name": "stdout",
          "output_type": "stream",
          "text": [
            "Quantidade de registros: 20468\n"
          ]
        }
      ],
      "source": [
        "# O dataset conta com mais de 20k de registros.\n",
        "# Além de possuir uma coluna sem nome, apenas contando a linha em questão, por isso a eliminei.\n",
        "\n",
        "print('Quantidade de registros:',df_estudo.count()[0])\n",
        "df_estudo = df_estudo.drop(columns=['Unnamed: 0'])"
      ]
    },
    {
      "cell_type": "code",
      "execution_count": null,
      "id": "b0c1d8f6",
      "metadata": {
        "id": "b0c1d8f6",
        "outputId": "9854008c-722c-4492-b5f0-cf27e74a2077"
      },
      "outputs": [
        {
          "name": "stdout",
          "output_type": "stream",
          "text": [
            "Porcentagem de registros classificados como 0: 73.43%\n"
          ]
        }
      ],
      "source": [
        "# Percebe-se que as classes no dataset não estão balanceadas, o que afetará as métricas de avaliação.\n",
        "\n",
        "print(\"Porcentagem de registros classificados como 0: {:.2F}%\".format(df_estudo.loc[df_estudo['targets']==0]['col_0'].count()*100/df_estudo['col_0'].count()))"
      ]
    },
    {
      "cell_type": "code",
      "execution_count": null,
      "id": "b3831131",
      "metadata": {
        "id": "b3831131",
        "outputId": "66fa1972-7f46-4e43-f380-48b5b4ca9e93"
      },
      "outputs": [
        {
          "name": "stderr",
          "output_type": "stream",
          "text": [
            "C:\\Users\\Vitor\\Anaconda3\\lib\\site-packages\\seaborn\\_decorators.py:36: FutureWarning: Pass the following variable as a keyword arg: x. From version 0.12, the only valid positional argument will be `data`, and passing other arguments without an explicit keyword will result in an error or misinterpretation.\n",
            "  warnings.warn(\n"
          ]
        },
        {
          "data": {
            "image/png": "[encoded data removed]",
            "text/plain": [
              "<Figure size 432x288 with 1 Axes>"
            ]
          },
          "metadata": {
            "needs_background": "light"
          },
          "output_type": "display_data"
        }
      ],
      "source": [
        "sns.countplot(df_estudo['targets']);"
      ]
    },
    {
      "cell_type": "markdown",
      "id": "11fc4b1f",
      "metadata": {
        "id": "11fc4b1f"
      },
      "source": [
        "##### 10 Variáveis com maior correlação com o target:"
      ]
    },
    {
      "cell_type": "code",
      "execution_count": null,
      "id": "a1e400ad",
      "metadata": {
        "id": "a1e400ad",
        "outputId": "a83e51e3-283a-4d19-a501-adbe9d3159ce"
      },
      "outputs": [
        {
          "data": {
            "text/html": [
              "<div>\n",
              "<style scoped>\n",
              "    .dataframe tbody tr th:only-of-type {\n",
              "        vertical-align: middle;\n",
              "    }\n",
              "\n",
              "    .dataframe tbody tr th {\n",
              "        vertical-align: top;\n",
              "    }\n",
              "\n",
              "    .dataframe thead th {\n",
              "        text-align: right;\n",
              "    }\n",
              "</style>\n",
              "<table border=\"1\" class=\"dataframe\">\n",
              "  <thead>\n",
              "    <tr style=\"text-align: right;\">\n",
              "      <th></th>\n",
              "      <th>col_0</th>\n",
              "      <th>col_1</th>\n",
              "      <th>col_2</th>\n",
              "      <th>col_3</th>\n",
              "      <th>col_4</th>\n",
              "      <th>col_5</th>\n",
              "      <th>col_6</th>\n",
              "      <th>col_7</th>\n",
              "      <th>col_8</th>\n",
              "      <th>col_9</th>\n",
              "      <th>...</th>\n",
              "      <th>col_103</th>\n",
              "      <th>col_104</th>\n",
              "      <th>col_105</th>\n",
              "      <th>col_106</th>\n",
              "      <th>col_107</th>\n",
              "      <th>col_108</th>\n",
              "      <th>col_109</th>\n",
              "      <th>col_110</th>\n",
              "      <th>col_111</th>\n",
              "      <th>targets</th>\n",
              "    </tr>\n",
              "  </thead>\n",
              "  <tbody>\n",
              "    <tr>\n",
              "      <th>targets</th>\n",
              "      <td>-0.041022</td>\n",
              "      <td>-0.109658</td>\n",
              "      <td>-0.026381</td>\n",
              "      <td>-0.095612</td>\n",
              "      <td>0.007819</td>\n",
              "      <td>0.058073</td>\n",
              "      <td>-0.017351</td>\n",
              "      <td>-0.041022</td>\n",
              "      <td>NaN</td>\n",
              "      <td>NaN</td>\n",
              "      <td>...</td>\n",
              "      <td>-0.035880</td>\n",
              "      <td>0.273051</td>\n",
              "      <td>0.024011</td>\n",
              "      <td>-0.268248</td>\n",
              "      <td>-0.190384</td>\n",
              "      <td>-0.004204</td>\n",
              "      <td>0.166826</td>\n",
              "      <td>0.071049</td>\n",
              "      <td>0.262442</td>\n",
              "      <td>1.000000</td>\n",
              "    </tr>\n",
              "    <tr>\n",
              "      <th>col_83</th>\n",
              "      <td>-0.025439</td>\n",
              "      <td>-0.075970</td>\n",
              "      <td>-0.009952</td>\n",
              "      <td>-0.049615</td>\n",
              "      <td>-0.014467</td>\n",
              "      <td>0.027418</td>\n",
              "      <td>-0.022827</td>\n",
              "      <td>-0.025439</td>\n",
              "      <td>NaN</td>\n",
              "      <td>NaN</td>\n",
              "      <td>...</td>\n",
              "      <td>0.008348</td>\n",
              "      <td>0.305090</td>\n",
              "      <td>0.022792</td>\n",
              "      <td>-0.131351</td>\n",
              "      <td>-0.102215</td>\n",
              "      <td>-0.002345</td>\n",
              "      <td>0.234066</td>\n",
              "      <td>0.034386</td>\n",
              "      <td>0.313272</td>\n",
              "      <td>0.519494</td>\n",
              "    </tr>\n",
              "    <tr>\n",
              "      <th>col_76</th>\n",
              "      <td>0.009584</td>\n",
              "      <td>0.035849</td>\n",
              "      <td>-0.016473</td>\n",
              "      <td>-0.047848</td>\n",
              "      <td>0.024198</td>\n",
              "      <td>0.157780</td>\n",
              "      <td>0.005606</td>\n",
              "      <td>0.009584</td>\n",
              "      <td>NaN</td>\n",
              "      <td>NaN</td>\n",
              "      <td>...</td>\n",
              "      <td>0.025957</td>\n",
              "      <td>0.233352</td>\n",
              "      <td>0.004270</td>\n",
              "      <td>0.046256</td>\n",
              "      <td>0.065039</td>\n",
              "      <td>-0.002261</td>\n",
              "      <td>0.091140</td>\n",
              "      <td>0.021830</td>\n",
              "      <td>0.305208</td>\n",
              "      <td>0.311553</td>\n",
              "    </tr>\n",
              "    <tr>\n",
              "      <th>col_86</th>\n",
              "      <td>-0.022820</td>\n",
              "      <td>-0.046003</td>\n",
              "      <td>-0.009089</td>\n",
              "      <td>-0.027191</td>\n",
              "      <td>-0.010496</td>\n",
              "      <td>0.022068</td>\n",
              "      <td>-0.027833</td>\n",
              "      <td>-0.022820</td>\n",
              "      <td>NaN</td>\n",
              "      <td>NaN</td>\n",
              "      <td>...</td>\n",
              "      <td>-0.011889</td>\n",
              "      <td>0.156870</td>\n",
              "      <td>-0.002995</td>\n",
              "      <td>-0.084935</td>\n",
              "      <td>-0.067836</td>\n",
              "      <td>-0.001237</td>\n",
              "      <td>0.024058</td>\n",
              "      <td>-0.001029</td>\n",
              "      <td>0.174080</td>\n",
              "      <td>0.276921</td>\n",
              "    </tr>\n",
              "    <tr>\n",
              "      <th>col_74</th>\n",
              "      <td>-0.014262</td>\n",
              "      <td>0.001045</td>\n",
              "      <td>0.000192</td>\n",
              "      <td>-0.014650</td>\n",
              "      <td>0.011773</td>\n",
              "      <td>0.040376</td>\n",
              "      <td>0.037212</td>\n",
              "      <td>-0.014262</td>\n",
              "      <td>NaN</td>\n",
              "      <td>NaN</td>\n",
              "      <td>...</td>\n",
              "      <td>0.035052</td>\n",
              "      <td>0.151922</td>\n",
              "      <td>0.007080</td>\n",
              "      <td>-0.039631</td>\n",
              "      <td>-0.014360</td>\n",
              "      <td>-0.001312</td>\n",
              "      <td>0.103986</td>\n",
              "      <td>0.064527</td>\n",
              "      <td>0.247247</td>\n",
              "      <td>0.273117</td>\n",
              "    </tr>\n",
              "    <tr>\n",
              "      <th>col_104</th>\n",
              "      <td>-0.009675</td>\n",
              "      <td>0.021930</td>\n",
              "      <td>0.001027</td>\n",
              "      <td>-0.038370</td>\n",
              "      <td>0.025733</td>\n",
              "      <td>0.066406</td>\n",
              "      <td>0.039103</td>\n",
              "      <td>-0.009675</td>\n",
              "      <td>NaN</td>\n",
              "      <td>NaN</td>\n",
              "      <td>...</td>\n",
              "      <td>-0.050163</td>\n",
              "      <td>1.000000</td>\n",
              "      <td>-0.010127</td>\n",
              "      <td>0.004313</td>\n",
              "      <td>0.054961</td>\n",
              "      <td>-0.005221</td>\n",
              "      <td>0.107412</td>\n",
              "      <td>0.003011</td>\n",
              "      <td>0.402607</td>\n",
              "      <td>0.273051</td>\n",
              "    </tr>\n",
              "    <tr>\n",
              "      <th>col_85</th>\n",
              "      <td>0.008882</td>\n",
              "      <td>-0.025984</td>\n",
              "      <td>-0.008142</td>\n",
              "      <td>-0.028404</td>\n",
              "      <td>0.011929</td>\n",
              "      <td>0.040456</td>\n",
              "      <td>-0.003718</td>\n",
              "      <td>0.008882</td>\n",
              "      <td>NaN</td>\n",
              "      <td>NaN</td>\n",
              "      <td>...</td>\n",
              "      <td>0.003649</td>\n",
              "      <td>0.155757</td>\n",
              "      <td>-0.002971</td>\n",
              "      <td>-0.076045</td>\n",
              "      <td>-0.064763</td>\n",
              "      <td>-0.001235</td>\n",
              "      <td>0.088718</td>\n",
              "      <td>-0.003789</td>\n",
              "      <td>0.168936</td>\n",
              "      <td>0.270597</td>\n",
              "    </tr>\n",
              "    <tr>\n",
              "      <th>col_14</th>\n",
              "      <td>0.081488</td>\n",
              "      <td>0.195358</td>\n",
              "      <td>0.010522</td>\n",
              "      <td>0.097291</td>\n",
              "      <td>0.019296</td>\n",
              "      <td>0.072007</td>\n",
              "      <td>-0.017828</td>\n",
              "      <td>0.081488</td>\n",
              "      <td>NaN</td>\n",
              "      <td>NaN</td>\n",
              "      <td>...</td>\n",
              "      <td>0.084787</td>\n",
              "      <td>-0.057616</td>\n",
              "      <td>-0.016788</td>\n",
              "      <td>0.194195</td>\n",
              "      <td>0.198399</td>\n",
              "      <td>-0.005278</td>\n",
              "      <td>-0.023821</td>\n",
              "      <td>0.031141</td>\n",
              "      <td>0.037503</td>\n",
              "      <td>-0.270216</td>\n",
              "    </tr>\n",
              "    <tr>\n",
              "      <th>col_106</th>\n",
              "      <td>0.075413</td>\n",
              "      <td>0.232897</td>\n",
              "      <td>0.041971</td>\n",
              "      <td>0.148617</td>\n",
              "      <td>0.059956</td>\n",
              "      <td>0.116859</td>\n",
              "      <td>0.007471</td>\n",
              "      <td>0.075413</td>\n",
              "      <td>NaN</td>\n",
              "      <td>NaN</td>\n",
              "      <td>...</td>\n",
              "      <td>0.060260</td>\n",
              "      <td>0.004313</td>\n",
              "      <td>0.054821</td>\n",
              "      <td>1.000000</td>\n",
              "      <td>0.703346</td>\n",
              "      <td>0.010468</td>\n",
              "      <td>0.057408</td>\n",
              "      <td>0.061286</td>\n",
              "      <td>0.221531</td>\n",
              "      <td>-0.268248</td>\n",
              "    </tr>\n",
              "    <tr>\n",
              "      <th>col_111</th>\n",
              "      <td>0.052114</td>\n",
              "      <td>0.206308</td>\n",
              "      <td>0.033094</td>\n",
              "      <td>0.127431</td>\n",
              "      <td>0.056226</td>\n",
              "      <td>0.223831</td>\n",
              "      <td>0.021537</td>\n",
              "      <td>0.052114</td>\n",
              "      <td>NaN</td>\n",
              "      <td>NaN</td>\n",
              "      <td>...</td>\n",
              "      <td>0.136194</td>\n",
              "      <td>0.402607</td>\n",
              "      <td>0.124260</td>\n",
              "      <td>0.221531</td>\n",
              "      <td>0.329699</td>\n",
              "      <td>0.013871</td>\n",
              "      <td>0.369065</td>\n",
              "      <td>0.334947</td>\n",
              "      <td>1.000000</td>\n",
              "      <td>0.262442</td>\n",
              "    </tr>\n",
              "    <tr>\n",
              "      <th>col_89</th>\n",
              "      <td>-0.019457</td>\n",
              "      <td>-0.032260</td>\n",
              "      <td>-0.005891</td>\n",
              "      <td>-0.024708</td>\n",
              "      <td>0.019436</td>\n",
              "      <td>0.032276</td>\n",
              "      <td>-0.006728</td>\n",
              "      <td>-0.019457</td>\n",
              "      <td>NaN</td>\n",
              "      <td>NaN</td>\n",
              "      <td>...</td>\n",
              "      <td>-0.002887</td>\n",
              "      <td>0.158515</td>\n",
              "      <td>0.001856</td>\n",
              "      <td>-0.052262</td>\n",
              "      <td>-0.023260</td>\n",
              "      <td>-0.001924</td>\n",
              "      <td>0.172730</td>\n",
              "      <td>0.011900</td>\n",
              "      <td>0.170583</td>\n",
              "      <td>0.227494</td>\n",
              "    </tr>\n",
              "  </tbody>\n",
              "</table>\n",
              "<p>11 rows × 113 columns</p>\n",
              "</div>"
            ],
            "text/plain": [
              "            col_0     col_1     col_2     col_3     col_4     col_5     col_6  \\\n",
              "targets -0.041022 -0.109658 -0.026381 -0.095612  0.007819  0.058073 -0.017351   \n",
              "col_83  -0.025439 -0.075970 -0.009952 -0.049615 -0.014467  0.027418 -0.022827   \n",
              "col_76   0.009584  0.035849 -0.016473 -0.047848  0.024198  0.157780  0.005606   \n",
              "col_86  -0.022820 -0.046003 -0.009089 -0.027191 -0.010496  0.022068 -0.027833   \n",
              "col_74  -0.014262  0.001045  0.000192 -0.014650  0.011773  0.040376  0.037212   \n",
              "col_104 -0.009675  0.021930  0.001027 -0.038370  0.025733  0.066406  0.039103   \n",
              "col_85   0.008882 -0.025984 -0.008142 -0.028404  0.011929  0.040456 -0.003718   \n",
              "col_14   0.081488  0.195358  0.010522  0.097291  0.019296  0.072007 -0.017828   \n",
              "col_106  0.075413  0.232897  0.041971  0.148617  0.059956  0.116859  0.007471   \n",
              "col_111  0.052114  0.206308  0.033094  0.127431  0.056226  0.223831  0.021537   \n",
              "col_89  -0.019457 -0.032260 -0.005891 -0.024708  0.019436  0.032276 -0.006728   \n",
              "\n",
              "            col_7  col_8  col_9  ...   col_103   col_104   col_105   col_106  \\\n",
              "targets -0.041022    NaN    NaN  ... -0.035880  0.273051  0.024011 -0.268248   \n",
              "col_83  -0.025439    NaN    NaN  ...  0.008348  0.305090  0.022792 -0.131351   \n",
              "col_76   0.009584    NaN    NaN  ...  0.025957  0.233352  0.004270  0.046256   \n",
              "col_86  -0.022820    NaN    NaN  ... -0.011889  0.156870 -0.002995 -0.084935   \n",
              "col_74  -0.014262    NaN    NaN  ...  0.035052  0.151922  0.007080 -0.039631   \n",
              "col_104 -0.009675    NaN    NaN  ... -0.050163  1.000000 -0.010127  0.004313   \n",
              "col_85   0.008882    NaN    NaN  ...  0.003649  0.155757 -0.002971 -0.076045   \n",
              "col_14   0.081488    NaN    NaN  ...  0.084787 -0.057616 -0.016788  0.194195   \n",
              "col_106  0.075413    NaN    NaN  ...  0.060260  0.004313  0.054821  1.000000   \n",
              "col_111  0.052114    NaN    NaN  ...  0.136194  0.402607  0.124260  0.221531   \n",
              "col_89  -0.019457    NaN    NaN  ... -0.002887  0.158515  0.001856 -0.052262   \n",
              "\n",
              "          col_107   col_108   col_109   col_110   col_111   targets  \n",
              "targets -0.190384 -0.004204  0.166826  0.071049  0.262442  1.000000  \n",
              "col_83  -0.102215 -0.002345  0.234066  0.034386  0.313272  0.519494  \n",
              "col_76   0.065039 -0.002261  0.091140  0.021830  0.305208  0.311553  \n",
              "col_86  -0.067836 -0.001237  0.024058 -0.001029  0.174080  0.276921  \n",
              "col_74  -0.014360 -0.001312  0.103986  0.064527  0.247247  0.273117  \n",
              "col_104  0.054961 -0.005221  0.107412  0.003011  0.402607  0.273051  \n",
              "col_85  -0.064763 -0.001235  0.088718 -0.003789  0.168936  0.270597  \n",
              "col_14   0.198399 -0.005278 -0.023821  0.031141  0.037503 -0.270216  \n",
              "col_106  0.703346  0.010468  0.057408  0.061286  0.221531 -0.268248  \n",
              "col_111  0.329699  0.013871  0.369065  0.334947  1.000000  0.262442  \n",
              "col_89  -0.023260 -0.001924  0.172730  0.011900  0.170583  0.227494  \n",
              "\n",
              "[11 rows x 113 columns]"
            ]
          },
          "execution_count": 6,
          "metadata": {},
          "output_type": "execute_result"
        }
      ],
      "source": [
        "''' Crei uma tabela que dispunha da correlalção de cada varável em relação as outras no dataset. \n",
        "    Ordenei os dados em relação às que tiveram maior correlação com a varável target.\n",
        "    Como a correlação entre a variável target e ela mesma é maxima, pegamos as 11 maiores correlação em valor absoluto.\n",
        "'''\n",
        "\n",
        "df_top10_corr = df_estudo.corr().sort_values(by='targets', key=lambda col: abs(col), ascending=False).head(11)\n",
        "df_top10_corr"
      ]
    },
    {
      "cell_type": "code",
      "execution_count": null,
      "id": "08051912",
      "metadata": {
        "id": "08051912",
        "outputId": "b49a8813-2055-465e-cc17-6f3099141a39"
      },
      "outputs": [
        {
          "data": {
            "text/html": [
              "<div>\n",
              "<style scoped>\n",
              "    .dataframe tbody tr th:only-of-type {\n",
              "        vertical-align: middle;\n",
              "    }\n",
              "\n",
              "    .dataframe tbody tr th {\n",
              "        vertical-align: top;\n",
              "    }\n",
              "\n",
              "    .dataframe thead th {\n",
              "        text-align: right;\n",
              "    }\n",
              "</style>\n",
              "<table border=\"1\" class=\"dataframe\">\n",
              "  <thead>\n",
              "    <tr style=\"text-align: right;\">\n",
              "      <th></th>\n",
              "      <th>targets</th>\n",
              "      <th>col_83</th>\n",
              "      <th>col_76</th>\n",
              "      <th>col_86</th>\n",
              "      <th>col_74</th>\n",
              "      <th>col_104</th>\n",
              "      <th>col_85</th>\n",
              "      <th>col_14</th>\n",
              "      <th>col_106</th>\n",
              "      <th>col_111</th>\n",
              "      <th>col_89</th>\n",
              "    </tr>\n",
              "  </thead>\n",
              "  <tbody>\n",
              "    <tr>\n",
              "      <th>0</th>\n",
              "      <td>1</td>\n",
              "      <td>0</td>\n",
              "      <td>0</td>\n",
              "      <td>0</td>\n",
              "      <td>0</td>\n",
              "      <td>0</td>\n",
              "      <td>0</td>\n",
              "      <td>1</td>\n",
              "      <td>1</td>\n",
              "      <td>49</td>\n",
              "      <td>0</td>\n",
              "    </tr>\n",
              "    <tr>\n",
              "      <th>1</th>\n",
              "      <td>1</td>\n",
              "      <td>0</td>\n",
              "      <td>0</td>\n",
              "      <td>0</td>\n",
              "      <td>0</td>\n",
              "      <td>1</td>\n",
              "      <td>0</td>\n",
              "      <td>0</td>\n",
              "      <td>0</td>\n",
              "      <td>55</td>\n",
              "      <td>1</td>\n",
              "    </tr>\n",
              "    <tr>\n",
              "      <th>2</th>\n",
              "      <td>1</td>\n",
              "      <td>0</td>\n",
              "      <td>0</td>\n",
              "      <td>0</td>\n",
              "      <td>0</td>\n",
              "      <td>0</td>\n",
              "      <td>0</td>\n",
              "      <td>1</td>\n",
              "      <td>1</td>\n",
              "      <td>56</td>\n",
              "      <td>0</td>\n",
              "    </tr>\n",
              "    <tr>\n",
              "      <th>3</th>\n",
              "      <td>1</td>\n",
              "      <td>0</td>\n",
              "      <td>0</td>\n",
              "      <td>0</td>\n",
              "      <td>0</td>\n",
              "      <td>1</td>\n",
              "      <td>0</td>\n",
              "      <td>0</td>\n",
              "      <td>1</td>\n",
              "      <td>65</td>\n",
              "      <td>0</td>\n",
              "    </tr>\n",
              "    <tr>\n",
              "      <th>4</th>\n",
              "      <td>1</td>\n",
              "      <td>0</td>\n",
              "      <td>1</td>\n",
              "      <td>0</td>\n",
              "      <td>0</td>\n",
              "      <td>0</td>\n",
              "      <td>0</td>\n",
              "      <td>1</td>\n",
              "      <td>1</td>\n",
              "      <td>175</td>\n",
              "      <td>0</td>\n",
              "    </tr>\n",
              "    <tr>\n",
              "      <th>...</th>\n",
              "      <td>...</td>\n",
              "      <td>...</td>\n",
              "      <td>...</td>\n",
              "      <td>...</td>\n",
              "      <td>...</td>\n",
              "      <td>...</td>\n",
              "      <td>...</td>\n",
              "      <td>...</td>\n",
              "      <td>...</td>\n",
              "      <td>...</td>\n",
              "      <td>...</td>\n",
              "    </tr>\n",
              "    <tr>\n",
              "      <th>20463</th>\n",
              "      <td>0</td>\n",
              "      <td>0</td>\n",
              "      <td>0</td>\n",
              "      <td>0</td>\n",
              "      <td>0</td>\n",
              "      <td>1</td>\n",
              "      <td>0</td>\n",
              "      <td>0</td>\n",
              "      <td>0</td>\n",
              "      <td>85</td>\n",
              "      <td>0</td>\n",
              "    </tr>\n",
              "    <tr>\n",
              "      <th>20464</th>\n",
              "      <td>0</td>\n",
              "      <td>0</td>\n",
              "      <td>0</td>\n",
              "      <td>0</td>\n",
              "      <td>0</td>\n",
              "      <td>0</td>\n",
              "      <td>0</td>\n",
              "      <td>0</td>\n",
              "      <td>0</td>\n",
              "      <td>7</td>\n",
              "      <td>0</td>\n",
              "    </tr>\n",
              "    <tr>\n",
              "      <th>20465</th>\n",
              "      <td>0</td>\n",
              "      <td>0</td>\n",
              "      <td>0</td>\n",
              "      <td>0</td>\n",
              "      <td>0</td>\n",
              "      <td>1</td>\n",
              "      <td>0</td>\n",
              "      <td>0</td>\n",
              "      <td>0</td>\n",
              "      <td>45</td>\n",
              "      <td>0</td>\n",
              "    </tr>\n",
              "    <tr>\n",
              "      <th>20466</th>\n",
              "      <td>0</td>\n",
              "      <td>0</td>\n",
              "      <td>0</td>\n",
              "      <td>0</td>\n",
              "      <td>0</td>\n",
              "      <td>0</td>\n",
              "      <td>0</td>\n",
              "      <td>0</td>\n",
              "      <td>0</td>\n",
              "      <td>5</td>\n",
              "      <td>0</td>\n",
              "    </tr>\n",
              "    <tr>\n",
              "      <th>20467</th>\n",
              "      <td>0</td>\n",
              "      <td>0</td>\n",
              "      <td>0</td>\n",
              "      <td>0</td>\n",
              "      <td>0</td>\n",
              "      <td>1</td>\n",
              "      <td>0</td>\n",
              "      <td>1</td>\n",
              "      <td>1</td>\n",
              "      <td>72</td>\n",
              "      <td>0</td>\n",
              "    </tr>\n",
              "  </tbody>\n",
              "</table>\n",
              "<p>20468 rows × 11 columns</p>\n",
              "</div>"
            ],
            "text/plain": [
              "       targets  col_83  col_76  col_86  col_74  col_104  col_85  col_14  \\\n",
              "0            1       0       0       0       0        0       0       1   \n",
              "1            1       0       0       0       0        1       0       0   \n",
              "2            1       0       0       0       0        0       0       1   \n",
              "3            1       0       0       0       0        1       0       0   \n",
              "4            1       0       1       0       0        0       0       1   \n",
              "...        ...     ...     ...     ...     ...      ...     ...     ...   \n",
              "20463        0       0       0       0       0        1       0       0   \n",
              "20464        0       0       0       0       0        0       0       0   \n",
              "20465        0       0       0       0       0        1       0       0   \n",
              "20466        0       0       0       0       0        0       0       0   \n",
              "20467        0       0       0       0       0        1       0       1   \n",
              "\n",
              "       col_106  col_111  col_89  \n",
              "0            1       49       0  \n",
              "1            0       55       1  \n",
              "2            1       56       0  \n",
              "3            1       65       0  \n",
              "4            1      175       0  \n",
              "...        ...      ...     ...  \n",
              "20463        0       85       0  \n",
              "20464        0        7       0  \n",
              "20465        0       45       0  \n",
              "20466        0        5       0  \n",
              "20467        1       72       0  \n",
              "\n",
              "[20468 rows x 11 columns]"
            ]
          },
          "execution_count": 7,
          "metadata": {},
          "output_type": "execute_result"
        }
      ],
      "source": [
        "# Criando um dataframe com as 10 melhores variáveis preditoras de acordo com a correlação:\n",
        "\n",
        "df_top_10 = df_estudo[df_top10_corr.index]\n",
        "df_top_10"
      ]
    },
    {
      "cell_type": "code",
      "execution_count": null,
      "id": "986e3baa",
      "metadata": {
        "id": "986e3baa"
      },
      "outputs": [],
      "source": [
        "# Identificando a correlação entre as variáveis\n",
        "# Correlação não implica causalidade\n",
        "\n",
        "def plot_corr(df, size=10):\n",
        "    corr = df.corr()    \n",
        "    fig, ax = plt.subplots(figsize = (size, size))\n",
        "    ax.matshow(corr)  \n",
        "    plt.xticks(range(len(corr.columns)), corr.columns) \n",
        "    plt.yticks(range(len(corr.columns)), corr.columns)  "
      ]
    },
    {
      "cell_type": "markdown",
      "id": "94dae4fb",
      "metadata": {
        "id": "94dae4fb"
      },
      "source": [
        "##### Uma vizualização para facilitar a compreenção das correlações dos dados."
      ]
    },
    {
      "cell_type": "code",
      "execution_count": null,
      "id": "d8bd8ec9",
      "metadata": {
        "id": "d8bd8ec9",
        "outputId": "c9265556-9b20-403d-e5d4-b85e047f420b"
      },
      "outputs": [
        {
          "data": {
            "image/png": "[encoded data removed]",
            "text/plain": [
              "<Figure size 720x720 with 1 Axes>"
            ]
          },
          "metadata": {
            "needs_background": "light"
          },
          "output_type": "display_data"
        }
      ],
      "source": [
        "plot_corr(df_top_10)"
      ]
    },
    {
      "cell_type": "code",
      "execution_count": null,
      "id": "cc8f0722",
      "metadata": {
        "id": "cc8f0722",
        "outputId": "69451e3c-882a-4d81-df35-078ab9072be4"
      },
      "outputs": [
        {
          "data": {
            "text/html": [
              "<div>\n",
              "<style scoped>\n",
              "    .dataframe tbody tr th:only-of-type {\n",
              "        vertical-align: middle;\n",
              "    }\n",
              "\n",
              "    .dataframe tbody tr th {\n",
              "        vertical-align: top;\n",
              "    }\n",
              "\n",
              "    .dataframe thead th {\n",
              "        text-align: right;\n",
              "    }\n",
              "</style>\n",
              "<table border=\"1\" class=\"dataframe\">\n",
              "  <thead>\n",
              "    <tr style=\"text-align: right;\">\n",
              "      <th></th>\n",
              "      <th>targets</th>\n",
              "      <th>col_83</th>\n",
              "      <th>col_76</th>\n",
              "      <th>col_86</th>\n",
              "      <th>col_74</th>\n",
              "      <th>col_104</th>\n",
              "      <th>col_85</th>\n",
              "      <th>col_14</th>\n",
              "      <th>col_106</th>\n",
              "      <th>col_111</th>\n",
              "      <th>col_89</th>\n",
              "    </tr>\n",
              "  </thead>\n",
              "  <tbody>\n",
              "    <tr>\n",
              "      <th>targets</th>\n",
              "      <td>1.000000</td>\n",
              "      <td>0.519494</td>\n",
              "      <td>0.311553</td>\n",
              "      <td>0.276921</td>\n",
              "      <td>0.273117</td>\n",
              "      <td>0.273051</td>\n",
              "      <td>0.270597</td>\n",
              "      <td>-0.270216</td>\n",
              "      <td>-0.268248</td>\n",
              "      <td>0.262442</td>\n",
              "      <td>0.227494</td>\n",
              "    </tr>\n",
              "    <tr>\n",
              "      <th>col_83</th>\n",
              "      <td>0.519494</td>\n",
              "      <td>1.000000</td>\n",
              "      <td>0.411629</td>\n",
              "      <td>0.371083</td>\n",
              "      <td>0.167532</td>\n",
              "      <td>0.305090</td>\n",
              "      <td>0.387926</td>\n",
              "      <td>-0.201067</td>\n",
              "      <td>-0.131351</td>\n",
              "      <td>0.313272</td>\n",
              "      <td>0.308642</td>\n",
              "    </tr>\n",
              "    <tr>\n",
              "      <th>col_76</th>\n",
              "      <td>0.311553</td>\n",
              "      <td>0.411629</td>\n",
              "      <td>1.000000</td>\n",
              "      <td>0.228474</td>\n",
              "      <td>0.136115</td>\n",
              "      <td>0.233352</td>\n",
              "      <td>0.245564</td>\n",
              "      <td>-0.069783</td>\n",
              "      <td>0.046256</td>\n",
              "      <td>0.305208</td>\n",
              "      <td>0.171181</td>\n",
              "    </tr>\n",
              "    <tr>\n",
              "      <th>col_86</th>\n",
              "      <td>0.276921</td>\n",
              "      <td>0.371083</td>\n",
              "      <td>0.228474</td>\n",
              "      <td>1.000000</td>\n",
              "      <td>0.051504</td>\n",
              "      <td>0.156870</td>\n",
              "      <td>0.304171</td>\n",
              "      <td>-0.107645</td>\n",
              "      <td>-0.084935</td>\n",
              "      <td>0.174080</td>\n",
              "      <td>0.265024</td>\n",
              "    </tr>\n",
              "    <tr>\n",
              "      <th>col_74</th>\n",
              "      <td>0.273117</td>\n",
              "      <td>0.167532</td>\n",
              "      <td>0.136115</td>\n",
              "      <td>0.051504</td>\n",
              "      <td>1.000000</td>\n",
              "      <td>0.151922</td>\n",
              "      <td>0.031258</td>\n",
              "      <td>-0.052160</td>\n",
              "      <td>-0.039631</td>\n",
              "      <td>0.247247</td>\n",
              "      <td>0.044152</td>\n",
              "    </tr>\n",
              "    <tr>\n",
              "      <th>col_104</th>\n",
              "      <td>0.273051</td>\n",
              "      <td>0.305090</td>\n",
              "      <td>0.233352</td>\n",
              "      <td>0.156870</td>\n",
              "      <td>0.151922</td>\n",
              "      <td>1.000000</td>\n",
              "      <td>0.155757</td>\n",
              "      <td>-0.057616</td>\n",
              "      <td>0.004313</td>\n",
              "      <td>0.402607</td>\n",
              "      <td>0.158515</td>\n",
              "    </tr>\n",
              "    <tr>\n",
              "      <th>col_85</th>\n",
              "      <td>0.270597</td>\n",
              "      <td>0.387926</td>\n",
              "      <td>0.245564</td>\n",
              "      <td>0.304171</td>\n",
              "      <td>0.031258</td>\n",
              "      <td>0.155757</td>\n",
              "      <td>1.000000</td>\n",
              "      <td>-0.113310</td>\n",
              "      <td>-0.076045</td>\n",
              "      <td>0.168936</td>\n",
              "      <td>0.221023</td>\n",
              "    </tr>\n",
              "    <tr>\n",
              "      <th>col_14</th>\n",
              "      <td>-0.270216</td>\n",
              "      <td>-0.201067</td>\n",
              "      <td>-0.069783</td>\n",
              "      <td>-0.107645</td>\n",
              "      <td>-0.052160</td>\n",
              "      <td>-0.057616</td>\n",
              "      <td>-0.113310</td>\n",
              "      <td>1.000000</td>\n",
              "      <td>0.194195</td>\n",
              "      <td>0.037503</td>\n",
              "      <td>-0.092252</td>\n",
              "    </tr>\n",
              "    <tr>\n",
              "      <th>col_106</th>\n",
              "      <td>-0.268248</td>\n",
              "      <td>-0.131351</td>\n",
              "      <td>0.046256</td>\n",
              "      <td>-0.084935</td>\n",
              "      <td>-0.039631</td>\n",
              "      <td>0.004313</td>\n",
              "      <td>-0.076045</td>\n",
              "      <td>0.194195</td>\n",
              "      <td>1.000000</td>\n",
              "      <td>0.221531</td>\n",
              "      <td>-0.052262</td>\n",
              "    </tr>\n",
              "    <tr>\n",
              "      <th>col_111</th>\n",
              "      <td>0.262442</td>\n",
              "      <td>0.313272</td>\n",
              "      <td>0.305208</td>\n",
              "      <td>0.174080</td>\n",
              "      <td>0.247247</td>\n",
              "      <td>0.402607</td>\n",
              "      <td>0.168936</td>\n",
              "      <td>0.037503</td>\n",
              "      <td>0.221531</td>\n",
              "      <td>1.000000</td>\n",
              "      <td>0.170583</td>\n",
              "    </tr>\n",
              "    <tr>\n",
              "      <th>col_89</th>\n",
              "      <td>0.227494</td>\n",
              "      <td>0.308642</td>\n",
              "      <td>0.171181</td>\n",
              "      <td>0.265024</td>\n",
              "      <td>0.044152</td>\n",
              "      <td>0.158515</td>\n",
              "      <td>0.221023</td>\n",
              "      <td>-0.092252</td>\n",
              "      <td>-0.052262</td>\n",
              "      <td>0.170583</td>\n",
              "      <td>1.000000</td>\n",
              "    </tr>\n",
              "  </tbody>\n",
              "</table>\n",
              "</div>"
            ],
            "text/plain": [
              "          targets    col_83    col_76    col_86    col_74   col_104    col_85  \\\n",
              "targets  1.000000  0.519494  0.311553  0.276921  0.273117  0.273051  0.270597   \n",
              "col_83   0.519494  1.000000  0.411629  0.371083  0.167532  0.305090  0.387926   \n",
              "col_76   0.311553  0.411629  1.000000  0.228474  0.136115  0.233352  0.245564   \n",
              "col_86   0.276921  0.371083  0.228474  1.000000  0.051504  0.156870  0.304171   \n",
              "col_74   0.273117  0.167532  0.136115  0.051504  1.000000  0.151922  0.031258   \n",
              "col_104  0.273051  0.305090  0.233352  0.156870  0.151922  1.000000  0.155757   \n",
              "col_85   0.270597  0.387926  0.245564  0.304171  0.031258  0.155757  1.000000   \n",
              "col_14  -0.270216 -0.201067 -0.069783 -0.107645 -0.052160 -0.057616 -0.113310   \n",
              "col_106 -0.268248 -0.131351  0.046256 -0.084935 -0.039631  0.004313 -0.076045   \n",
              "col_111  0.262442  0.313272  0.305208  0.174080  0.247247  0.402607  0.168936   \n",
              "col_89   0.227494  0.308642  0.171181  0.265024  0.044152  0.158515  0.221023   \n",
              "\n",
              "           col_14   col_106   col_111    col_89  \n",
              "targets -0.270216 -0.268248  0.262442  0.227494  \n",
              "col_83  -0.201067 -0.131351  0.313272  0.308642  \n",
              "col_76  -0.069783  0.046256  0.305208  0.171181  \n",
              "col_86  -0.107645 -0.084935  0.174080  0.265024  \n",
              "col_74  -0.052160 -0.039631  0.247247  0.044152  \n",
              "col_104 -0.057616  0.004313  0.402607  0.158515  \n",
              "col_85  -0.113310 -0.076045  0.168936  0.221023  \n",
              "col_14   1.000000  0.194195  0.037503 -0.092252  \n",
              "col_106  0.194195  1.000000  0.221531 -0.052262  \n",
              "col_111  0.037503  0.221531  1.000000  0.170583  \n",
              "col_89  -0.092252 -0.052262  0.170583  1.000000  "
            ]
          },
          "execution_count": 10,
          "metadata": {},
          "output_type": "execute_result"
        }
      ],
      "source": [
        "# Na forma de tabela\n",
        "'''\n",
        "    Visualizando a correlação em tabela\n",
        "    Coeficiente de correlação: \n",
        "    +1  = forte correlação positiva\n",
        "    0   = não há correlação\n",
        "    -1  = forte correlação negativa\n",
        "'''\n",
        "\n",
        "df_top_10.corr()"
      ]
    },
    {
      "cell_type": "code",
      "execution_count": null,
      "id": "09044abb",
      "metadata": {
        "id": "09044abb",
        "outputId": "e3dcd4fe-30e4-492d-ecd9-7a734f1ad6ea"
      },
      "outputs": [
        {
          "name": "stdout",
          "output_type": "stream",
          "text": [
            "A varriável col_83 é categórica.\n",
            "A varriável col_76 é categórica.\n",
            "A varriável col_86 é categórica.\n",
            "A varriável col_74 é categórica.\n",
            "A varriável col_104 é categórica.\n",
            "A varriável col_85 é categórica.\n",
            "A varriável col_14 é categórica.\n",
            "A varriável col_106 é categórica.\n",
            "A varriável col_111 é numérica.\n",
            "A varriável col_89 é categórica.\n"
          ]
        }
      ],
      "source": [
        "# Analisando o dataset 'df_top_10', observemos que existe somente uma varável numérica, a 'col_111', as demais são categóricas.\n",
        "\n",
        "for i in df_top_10.drop(columns=['targets']).columns:\n",
        "    if len(np.unique(df_top_10[i]))==2:\n",
        "        print('A varriável {} é categórica.'.format(i))\n",
        "    else:\n",
        "        print('A varriável {} é numérica.'.format(i))"
      ]
    },
    {
      "cell_type": "markdown",
      "id": "a3e8d672",
      "metadata": {
        "id": "a3e8d672"
      },
      "source": [
        "##### Vizualizando a distribuição da varável numérica (col_111)"
      ]
    },
    {
      "cell_type": "code",
      "execution_count": null,
      "id": "a826f18e",
      "metadata": {
        "id": "a826f18e",
        "outputId": "9e70e5b0-4ae8-4ac9-e0ca-cf5f97017601"
      },
      "outputs": [
        {
          "name": "stderr",
          "output_type": "stream",
          "text": [
            "C:\\Users\\Vitor\\Anaconda3\\lib\\site-packages\\seaborn\\distributions.py:2619: FutureWarning: `distplot` is a deprecated function and will be removed in a future version. Please adapt your code to use either `displot` (a figure-level function with similar flexibility) or `histplot` (an axes-level function for histograms).\n",
            "  warnings.warn(msg, FutureWarning)\n"
          ]
        },
        {
          "data": {
            "image/png": "[encoded data removed]",
            "text/plain": [
              "<Figure size 576x360 with 1 Axes>"
            ]
          },
          "metadata": {},
          "output_type": "display_data"
        }
      ],
      "source": [
        "sns.set(style='whitegrid', palette=\"deep\", font_scale=1.1, rc={\"figure.figsize\": [8, 5]})\n",
        "sns.distplot(\n",
        "    df_top_10['col_111'], norm_hist=False, kde=False, bins=9, hist_kws={\"alpha\": 1}\n",
        ").set(xlabel='col_111', ylabel='Count');"
      ]
    },
    {
      "cell_type": "markdown",
      "id": "94c6a969",
      "metadata": {
        "id": "94c6a969"
      },
      "source": [
        "# VERSÃO 01"
      ]
    },
    {
      "cell_type": "markdown",
      "id": "eb90c5fb",
      "metadata": {
        "id": "eb90c5fb"
      },
      "source": [
        "A versão 01 tem como objetivo servir de paramêtro para futuros modelos, por isso, não irei tratar os dados e nem fazer noramlização. Irei considerar todas as variáveis para a consrtrução do modelo. Sendo assim, ela servirá de modelo base, qualquer melhoria na avaliações de próximos modelos, será um avanço."
      ]
    },
    {
      "cell_type": "code",
      "execution_count": null,
      "id": "cdb35055",
      "metadata": {
        "id": "cdb35055"
      },
      "outputs": [],
      "source": [
        "# Para esta primeira versão, iremos aproveitar o dataset base anterior.\n",
        "\n",
        "df1_v1 = df_estudo.copy()"
      ]
    },
    {
      "cell_type": "code",
      "execution_count": null,
      "id": "960458f9",
      "metadata": {
        "id": "960458f9",
        "outputId": "0277467e-0042-48b4-d838-6c29dced7506"
      },
      "outputs": [
        {
          "name": "stdout",
          "output_type": "stream",
          "text": [
            "Quantidade de variáveis:\n",
            "Numéricas: 50\n",
            "Categóricas: 62\n"
          ]
        }
      ],
      "source": [
        "# Por essa métrica, podemos inferir que a maioria das variáveis são categóricas.\n",
        "\n",
        "nume = 0\n",
        "cate = 0\n",
        "for i in df1_v1.drop(columns=['targets']).columns:\n",
        "    if len(np.unique(df1_v1[i]))<=10:               # Se o número de valores únicos for <= 10, consideirei categórica.\n",
        "        cate+=1\n",
        "    else:\n",
        "        nume+=1\n",
        "print('Quantidade de variáveis:\\nNuméricas: {}\\nCategóricas: {}'.format(nume,cate))"
      ]
    },
    {
      "cell_type": "markdown",
      "id": "2522a131",
      "metadata": {
        "id": "2522a131"
      },
      "source": [
        "## Imports"
      ]
    },
    {
      "cell_type": "code",
      "execution_count": null,
      "id": "2a799a20",
      "metadata": {
        "id": "2a799a20"
      },
      "outputs": [],
      "source": [
        "from sklearn.linear_model import LogisticRegression\n",
        "from sklearn.ensemble import RandomForestClassifier\n",
        "from sklearn.model_selection import cross_val_score, KFold, train_test_split\n",
        "from sklearn.preprocessing import StandardScaler\n",
        "from sklearn.utils import shuffle\n",
        "from sklearn.metrics import accuracy_score, f1_score, precision_score, recall_score"
      ]
    },
    {
      "cell_type": "markdown",
      "id": "f39f1be1",
      "metadata": {
        "id": "f39f1be1"
      },
      "source": [
        "## Model Selection"
      ]
    },
    {
      "cell_type": "markdown",
      "id": "1f98be42",
      "metadata": {
        "id": "1f98be42"
      },
      "source": [
        "Irei utilizar o modelo de Regressão Logística e  Random Forest, dois modelos são recomendados para classificação. Como se trata de muitas variaveis, acredito que o SVM não se ajuste tão bem quanto a regressão losgística. E pelo fato de existirem muitos registros, talvez a predição do KNN gere um leve delay em relação ao random forest."
      ]
    },
    {
      "cell_type": "markdown",
      "id": "bd1eafe1",
      "metadata": {
        "id": "bd1eafe1"
      },
      "source": [
        "## Spliting dos dados"
      ]
    },
    {
      "cell_type": "code",
      "execution_count": null,
      "id": "306e93ae",
      "metadata": {
        "id": "306e93ae"
      },
      "outputs": [],
      "source": [
        "X = df1_v1.drop(columns=['targets']).values\n",
        "y = df1_v1['targets'].values"
      ]
    },
    {
      "cell_type": "code",
      "execution_count": null,
      "id": "8c848f86",
      "metadata": {
        "id": "8c848f86"
      },
      "outputs": [],
      "source": [
        "# Infelizmente o modelo de regressão logística não convergiu sem normalizar os dados.\n",
        "\n",
        "sc_X = StandardScaler()\n",
        "X = sc_X.fit_transform(X)"
      ]
    },
    {
      "cell_type": "code",
      "execution_count": null,
      "id": "04b830f0",
      "metadata": {
        "id": "04b830f0"
      },
      "outputs": [],
      "source": [
        "# 80% dos dados iram para o conjunto 'train_test' e 20% para o de validação\n",
        "\n",
        "X_train_test, X_validation, y_train_test, y_validation = train_test_split(X, y, test_size=0.20, random_state=13)"
      ]
    },
    {
      "cell_type": "code",
      "execution_count": null,
      "id": "87c481e2",
      "metadata": {
        "id": "87c481e2",
        "outputId": "7121b9f9-1800-4813-ab65-7e82090880d6"
      },
      "outputs": [
        {
          "data": {
            "text/plain": [
              "(16374, 112)"
            ]
          },
          "execution_count": 19,
          "metadata": {},
          "output_type": "execute_result"
        }
      ],
      "source": [
        "X_train_test.shape"
      ]
    },
    {
      "cell_type": "markdown",
      "id": "4a3693f0",
      "metadata": {
        "id": "4a3693f0"
      },
      "source": [
        "## Construção e avaliação dos modelos preditivos"
      ]
    },
    {
      "cell_type": "code",
      "execution_count": null,
      "id": "0802a4f5",
      "metadata": {
        "id": "0802a4f5"
      },
      "outputs": [],
      "source": [
        "# Definindo os valores para os folds\n",
        "\n",
        "num_folds = 10\n",
        "seed = 7"
      ]
    },
    {
      "cell_type": "code",
      "execution_count": null,
      "id": "03797c6c",
      "metadata": {
        "id": "03797c6c"
      },
      "outputs": [],
      "source": [
        "# Separando os dados em folds \n",
        "kfolds = KFold(num_folds, shuffle=True, random_state=seed, )"
      ]
    },
    {
      "cell_type": "markdown",
      "id": "8063b760",
      "metadata": {
        "id": "8063b760"
      },
      "source": [
        "##### Ajustando os hiper-parâmetros:"
      ]
    },
    {
      "cell_type": "code",
      "execution_count": null,
      "id": "7e84f5d2",
      "metadata": {
        "id": "7e84f5d2"
      },
      "outputs": [],
      "source": [
        "# Instanciando o modelo de regressão logística\n",
        "modelo_reglog_v1_1 = LogisticRegression(random_state=0, max_iter=1000)\n",
        "\n",
        "# Instanciando o modelo de random forest\n",
        "modelo_ranfor_v1_1 = RandomForestClassifier()"
      ]
    },
    {
      "cell_type": "code",
      "execution_count": null,
      "id": "bebcdad3",
      "metadata": {
        "id": "bebcdad3"
      },
      "outputs": [],
      "source": [
        "# Ajustando os hiperparâmetros com cross validation - Versão 1.1\n",
        "\n",
        "resultado_reglog_v1_1 = cross_val_score(modelo_reglog_v1_1, X_train_test, y_train_test, cv=kfolds)\n",
        "resultado_ranfor_v1_1 = cross_val_score(modelo_ranfor_v1_1, X_train_test, y_train_test, cv=kfolds)"
      ]
    },
    {
      "cell_type": "code",
      "execution_count": null,
      "id": "91b0072b",
      "metadata": {
        "id": "91b0072b",
        "outputId": "2ac3c4a4-c16e-4ebd-95b5-1453d882058f"
      },
      "outputs": [
        {
          "name": "stdout",
          "output_type": "stream",
          "text": [
            "Versão 1.1 - Regressão Logistica: 0.8812145568407022\n"
          ]
        }
      ],
      "source": [
        "print('Versão 1.1 - Regressão Logistica: {}'.format(resultado_reglog_v1_1.mean())) "
      ]
    },
    {
      "cell_type": "code",
      "execution_count": null,
      "id": "16557f55",
      "metadata": {
        "id": "16557f55",
        "outputId": "df9cfe72-c122-4c16-e5e4-19582dd078b2"
      },
      "outputs": [
        {
          "name": "stdout",
          "output_type": "stream",
          "text": [
            "Versão 1.1 - Radom Forest: 0.9311101713056509\n"
          ]
        }
      ],
      "source": [
        "print('Versão 1.1 - Radom Forest: {}'.format(resultado_ranfor_v1_1.mean())) "
      ]
    },
    {
      "cell_type": "markdown",
      "id": "4558f8ca",
      "metadata": {
        "id": "4558f8ca"
      },
      "source": [
        "Neste dataset, não obtive melhor resultado com outros parâmetros tanto para o Randon forest quanto para a Regressão Logística. Os hiperparâmetros default, já conseguiram bons desempenhos."
      ]
    },
    {
      "cell_type": "markdown",
      "id": "1bf93723",
      "metadata": {
        "id": "1bf93723"
      },
      "source": [
        "## Treinamento dos melhores modelos"
      ]
    },
    {
      "cell_type": "code",
      "execution_count": null,
      "id": "77994bb8",
      "metadata": {
        "id": "77994bb8"
      },
      "outputs": [],
      "source": [
        "modelo_reglog_v1_final = modelo_reglog_v1_1\n",
        "modelo_ranfor_v1_final = modelo_ranfor_v1_1"
      ]
    },
    {
      "cell_type": "code",
      "execution_count": null,
      "id": "9edaa1ed",
      "metadata": {
        "id": "9edaa1ed",
        "outputId": "215341c6-12fb-4316-d202-e9cc5ce4cf1e"
      },
      "outputs": [
        {
          "data": {
            "text/plain": [
              "RandomForestClassifier()"
            ]
          },
          "execution_count": 27,
          "metadata": {},
          "output_type": "execute_result"
        }
      ],
      "source": [
        "modelo_reglog_v1_final.fit(X_train_test, y_train_test)\n",
        "modelo_ranfor_v1_final.fit(X_train_test, y_train_test)"
      ]
    },
    {
      "cell_type": "markdown",
      "id": "ce987c39",
      "metadata": {
        "id": "ce987c39"
      },
      "source": [
        "## Avaliação dos modelos"
      ]
    },
    {
      "cell_type": "code",
      "execution_count": null,
      "id": "4d497b49",
      "metadata": {
        "id": "4d497b49"
      },
      "outputs": [],
      "source": [
        "# Predição\n",
        "y_pred_reglog = modelo_reglog_v1_final.predict(X_validation)\n",
        "y_pred_ranfor = modelo_ranfor_v1_final.predict(X_validation)"
      ]
    },
    {
      "cell_type": "code",
      "execution_count": null,
      "id": "e9b50b2e",
      "metadata": {
        "id": "e9b50b2e",
        "outputId": "3fed24e7-c539-4a5f-9043-96c1f34406c2"
      },
      "outputs": [
        {
          "name": "stdout",
          "output_type": "stream",
          "text": [
            "Acurácia:\n",
            "- regressão losgística: 0.89\n",
            "- randon forest: 0.93\n"
          ]
        }
      ],
      "source": [
        "# Acurácia\n",
        "print(\"Acurácia:\")\n",
        "print('- regressão losgística: {:.2F}'.format(accuracy_score(y_validation, y_pred_reglog)))\n",
        "print('- randon forest: {:.2F}'.format(accuracy_score(y_validation, y_pred_ranfor)))"
      ]
    },
    {
      "cell_type": "code",
      "execution_count": null,
      "id": "f1b13316",
      "metadata": {
        "id": "f1b13316",
        "outputId": "b2549fab-c913-4caf-e631-7f1249b1eb3e"
      },
      "outputs": [
        {
          "name": "stdout",
          "output_type": "stream",
          "text": [
            "Score f1:\n",
            "- regressão losgística é: 0.75\n",
            "- randon forest é: 0.85\n"
          ]
        }
      ],
      "source": [
        "# Score F1\n",
        "print(\"Score f1:\")\n",
        "print('- regressão losgística é: {:.2F}'.format(f1_score(y_validation, y_pred_reglog)))\n",
        "print('- randon forest é: {:.2F}'.format(f1_score(y_validation, y_pred_ranfor)))"
      ]
    },
    {
      "cell_type": "code",
      "execution_count": null,
      "id": "81ead496",
      "metadata": {
        "id": "81ead496",
        "outputId": "b34ddf01-e85a-4815-d943-1fbaa88ddda5"
      },
      "outputs": [
        {
          "name": "stdout",
          "output_type": "stream",
          "text": [
            "Precision Score:\n",
            "- regressão losgística é: 0.89\n",
            "- randon forest é: 0.91\n"
          ]
        }
      ],
      "source": [
        "# Precision\n",
        "print(\"Precision Score:\")\n",
        "print('- regressão losgística é: {:.2F}'.format(precision_score(y_validation, y_pred_reglog)))\n",
        "print('- randon forest é: {:.2F}'.format(precision_score(y_validation, y_pred_ranfor)))"
      ]
    },
    {
      "cell_type": "code",
      "execution_count": null,
      "id": "557c23c7",
      "metadata": {
        "id": "557c23c7",
        "outputId": "62f2c3cc-595f-4e98-c404-c5a6da73392a"
      },
      "outputs": [
        {
          "name": "stdout",
          "output_type": "stream",
          "text": [
            "Recall Score:\n",
            "- regressão losgística é: 0.64\n",
            "- randon forest é: 0.80\n"
          ]
        }
      ],
      "source": [
        "# Recall\n",
        "print(\"Recall Score:\")\n",
        "print('- regressão losgística é: {:.2F}'.format(recall_score(y_validation, y_pred_reglog)))\n",
        "print('- randon forest é: {:.2F}'.format(recall_score(y_validation, y_pred_ranfor)))"
      ]
    },
    {
      "cell_type": "markdown",
      "id": "2365195c",
      "metadata": {
        "id": "2365195c"
      },
      "source": [
        "# VERSÃO 02"
      ]
    },
    {
      "cell_type": "markdown",
      "id": "bdf1fe7f",
      "metadata": {
        "id": "bdf1fe7f"
      },
      "source": [
        "Na versão 02 irei utilizar as 10 melhores variáveis para predição do modelo segundo as métricas ditas anteriormente. Além de normalizar os dados, e balancear o dataset."
      ]
    },
    {
      "cell_type": "markdown",
      "id": "e908324b",
      "metadata": {
        "id": "e908324b"
      },
      "source": [
        "## Imports"
      ]
    },
    {
      "cell_type": "code",
      "execution_count": null,
      "id": "4d5b5f38",
      "metadata": {
        "id": "4d5b5f38",
        "outputId": "6e2077b6-fdb4-4050-bc04-b23864489b35"
      },
      "outputs": [
        {
          "name": "stdout",
          "output_type": "stream",
          "text": [
            "Requirement already satisfied: imblearn in c:\\users\\vitor\\anaconda3\\lib\\site-packages (0.0)\n",
            "Requirement already satisfied: imbalanced-learn in c:\\users\\vitor\\anaconda3\\lib\\site-packages (from imblearn) (0.9.0)\n",
            "Requirement already satisfied: joblib>=0.11 in c:\\users\\vitor\\anaconda3\\lib\\site-packages (from imbalanced-learn->imblearn) (1.1.0)\n",
            "Requirement already satisfied: scipy>=1.1.0 in c:\\users\\vitor\\anaconda3\\lib\\site-packages (from imbalanced-learn->imblearn) (1.7.3)\n",
            "Requirement already satisfied: scikit-learn>=1.0.1 in c:\\users\\vitor\\anaconda3\\lib\\site-packages (from imbalanced-learn->imblearn) (1.0.2)\n",
            "Requirement already satisfied: numpy>=1.14.6 in c:\\users\\vitor\\anaconda3\\lib\\site-packages (from imbalanced-learn->imblearn) (1.20.3)\n",
            "Requirement already satisfied: threadpoolctl>=2.0.0 in c:\\users\\vitor\\anaconda3\\lib\\site-packages (from imbalanced-learn->imblearn) (2.2.0)\n"
          ]
        }
      ],
      "source": [
        "!pip install imblearn"
      ]
    },
    {
      "cell_type": "code",
      "execution_count": null,
      "id": "900fb4b3",
      "metadata": {
        "id": "900fb4b3"
      },
      "outputs": [],
      "source": [
        "from imblearn.under_sampling import RandomUnderSampler"
      ]
    },
    {
      "cell_type": "markdown",
      "id": "83e163de",
      "metadata": {
        "id": "83e163de"
      },
      "source": [
        "## Balanceando os dados utilizando o método de Under-Sample"
      ]
    },
    {
      "cell_type": "code",
      "execution_count": null,
      "id": "c591ef15",
      "metadata": {
        "id": "c591ef15"
      },
      "outputs": [],
      "source": [
        "rus = RandomUnderSampler(random_state=42)\n",
        "X_res, y_res = rus.fit_resample(X, y)"
      ]
    },
    {
      "cell_type": "code",
      "execution_count": null,
      "id": "a6e0bd89",
      "metadata": {
        "id": "a6e0bd89",
        "outputId": "a812f607-12ec-49d8-d416-778d8ca12944"
      },
      "outputs": [
        {
          "name": "stderr",
          "output_type": "stream",
          "text": [
            "C:\\Users\\Vitor\\Anaconda3\\lib\\site-packages\\seaborn\\_decorators.py:36: FutureWarning: Pass the following variable as a keyword arg: x. From version 0.12, the only valid positional argument will be `data`, and passing other arguments without an explicit keyword will result in an error or misinterpretation.\n",
            "  warnings.warn(\n"
          ]
        },
        {
          "data": {
            "image/png": "[encoded data removed]",
            "text/plain": [
              "<Figure size 576x360 with 1 Axes>"
            ]
          },
          "metadata": {},
          "output_type": "display_data"
        }
      ],
      "source": [
        "# Agora as classes estão balanceadas estão balanceados.\n",
        "\n",
        "sns.countplot(y_res);"
      ]
    },
    {
      "cell_type": "markdown",
      "id": "b2d5ab84",
      "metadata": {
        "id": "b2d5ab84"
      },
      "source": [
        "## Spliting dos dados"
      ]
    },
    {
      "cell_type": "code",
      "execution_count": null,
      "id": "07deff1b",
      "metadata": {
        "id": "07deff1b"
      },
      "outputs": [],
      "source": [
        "# O dataframe utilizado na versão 02.1 é o mesmo que o top 10 melhores variáveis preditotoras.\n",
        "df1_v2 = df_top_10.copy()"
      ]
    },
    {
      "cell_type": "code",
      "execution_count": null,
      "id": "b8701b68",
      "metadata": {
        "id": "b8701b68"
      },
      "outputs": [],
      "source": [
        "X = df1_v2.drop(columns=['targets']).values\n",
        "y = df1_v2['targets'].values"
      ]
    },
    {
      "cell_type": "code",
      "execution_count": null,
      "id": "560af0a3",
      "metadata": {
        "id": "560af0a3"
      },
      "outputs": [],
      "source": [
        "# Balanceando os dados\n",
        "X_res, y_res = rus.fit_resample(X, y)"
      ]
    },
    {
      "cell_type": "code",
      "execution_count": null,
      "id": "ce444c50",
      "metadata": {
        "id": "ce444c50"
      },
      "outputs": [],
      "source": [
        "# Normalizando os dados\n",
        "sc_X = StandardScaler()\n",
        "X_res = sc_X.fit_transform(X_res)"
      ]
    },
    {
      "cell_type": "code",
      "execution_count": null,
      "id": "283def3d",
      "metadata": {
        "id": "283def3d"
      },
      "outputs": [],
      "source": [
        "X_train_test, X_validation, y_train_test, y_validation = train_test_split(X_res, y_res, test_size=0.20, random_state=13)"
      ]
    },
    {
      "cell_type": "markdown",
      "id": "aa33d856",
      "metadata": {
        "id": "aa33d856"
      },
      "source": [
        "## Construção e avaliação dos modelos preditivos"
      ]
    },
    {
      "cell_type": "markdown",
      "id": "6cc1f170",
      "metadata": {
        "id": "6cc1f170"
      },
      "source": [
        "### Versão 2.1"
      ]
    },
    {
      "cell_type": "code",
      "execution_count": null,
      "id": "2f4e23c8",
      "metadata": {
        "id": "2f4e23c8"
      },
      "outputs": [],
      "source": [
        "# Instanciando o modelo de regressão logística\n",
        "modelo_reglog_v2_1 = LogisticRegression(random_state=0, max_iter=1000)\n",
        "\n",
        "# Instanciando o modelo de random forest\n",
        "modelo_ranfor_v2_1 = RandomForestClassifier()"
      ]
    },
    {
      "cell_type": "code",
      "execution_count": null,
      "id": "4cc513c5",
      "metadata": {
        "id": "4cc513c5"
      },
      "outputs": [],
      "source": [
        "# Ajustando os hiperparâmetros com cross validation - Versão 2.1\n",
        "\n",
        "resultado_reglog_v2_1 = cross_val_score(modelo_reglog_v2_1, X_train_test, y_train_test, cv=kfolds)\n",
        "resultado_ranfor_v2_1 = cross_val_score(modelo_ranfor_v2_1, X_train_test, y_train_test, cv=kfolds)"
      ]
    },
    {
      "cell_type": "code",
      "execution_count": null,
      "id": "0f714bfc",
      "metadata": {
        "id": "0f714bfc",
        "outputId": "97358a69-c6c9-4a68-c412-f5941f8c2652"
      },
      "outputs": [
        {
          "name": "stdout",
          "output_type": "stream",
          "text": [
            "Versão 1.1 - Regressão Logistica: 0.77\n",
            "Versão 1.1 - Radom Forest: 0.82\n"
          ]
        }
      ],
      "source": [
        "print('Versão 2.1 - Regressão Logistica: {:.2}'.format(resultado_reglog_v2_1.mean())) \n",
        "print('Versão 2.1 - Radom Forest: {:.2}'.format(resultado_ranfor_v2_1.mean())) "
      ]
    },
    {
      "cell_type": "markdown",
      "id": "90e09d2b",
      "metadata": {
        "id": "90e09d2b"
      },
      "source": [
        "### Versão 2.2"
      ]
    },
    {
      "cell_type": "code",
      "execution_count": null,
      "id": "5660b7cd",
      "metadata": {
        "id": "5660b7cd"
      },
      "outputs": [],
      "source": [
        "# Em vez de pegar os 10 melhores variáveis, pegarei as 20 melhores correlações\n",
        "df2_v2 = df_estudo[df_estudo.corr().sort_values(by='targets', key=lambda col: abs(col), ascending=False).head(21).index]"
      ]
    },
    {
      "cell_type": "code",
      "execution_count": null,
      "id": "d91f8b9e",
      "metadata": {
        "id": "d91f8b9e",
        "outputId": "71e9e7ad-fa31-4b9f-95d4-4f205d84cee1"
      },
      "outputs": [
        {
          "data": {
            "text/plain": [
              "targets    0\n",
              "col_83     0\n",
              "col_76     0\n",
              "col_86     0\n",
              "col_74     0\n",
              "col_104    0\n",
              "col_85     0\n",
              "col_14     0\n",
              "col_106    0\n",
              "col_111    0\n",
              "col_89     0\n",
              "col_84     0\n",
              "col_87     0\n",
              "col_98     0\n",
              "col_107    0\n",
              "col_77     0\n",
              "col_68     0\n",
              "col_109    0\n",
              "col_73     0\n",
              "col_94     0\n",
              "col_102    0\n",
              "dtype: int64"
            ]
          },
          "execution_count": 92,
          "metadata": {},
          "output_type": "execute_result"
        }
      ],
      "source": [
        "# Valores NA - nenhum\n",
        "df2_v2.isna().sum()"
      ]
    },
    {
      "cell_type": "code",
      "execution_count": null,
      "id": "e6874bc3",
      "metadata": {
        "id": "e6874bc3",
        "outputId": "773065b4-7039-4879-e8c1-e91a8fa94323"
      },
      "outputs": [
        {
          "data": {
            "text/plain": [
              "targets    0\n",
              "col_83     0\n",
              "col_76     0\n",
              "col_86     0\n",
              "col_74     0\n",
              "col_104    0\n",
              "col_85     0\n",
              "col_14     0\n",
              "col_106    0\n",
              "col_111    0\n",
              "col_89     0\n",
              "col_84     0\n",
              "col_87     0\n",
              "col_98     0\n",
              "col_107    0\n",
              "col_77     0\n",
              "col_68     0\n",
              "col_109    0\n",
              "col_73     0\n",
              "col_94     0\n",
              "col_102    0\n",
              "dtype: int64"
            ]
          },
          "execution_count": 88,
          "metadata": {},
          "output_type": "execute_result"
        }
      ],
      "source": [
        "# Valores nulos - nenhum\n",
        "df2_v2.isnull().sum()"
      ]
    },
    {
      "cell_type": "markdown",
      "id": "4b3daca9",
      "metadata": {
        "id": "4b3daca9"
      },
      "source": [
        "### Spliting dos dados"
      ]
    },
    {
      "cell_type": "code",
      "execution_count": null,
      "id": "a9d0aec6",
      "metadata": {
        "id": "a9d0aec6"
      },
      "outputs": [],
      "source": [
        "X = df2_v2.drop(columns=['targets']).values\n",
        "y = df2_v2['targets'].values"
      ]
    },
    {
      "cell_type": "code",
      "execution_count": null,
      "id": "5765d55c",
      "metadata": {
        "id": "5765d55c"
      },
      "outputs": [],
      "source": [
        "# Balanceando os dados\n",
        "X_res, y_res = rus.fit_resample(X, y)"
      ]
    },
    {
      "cell_type": "code",
      "execution_count": null,
      "id": "ca39eb0e",
      "metadata": {
        "id": "ca39eb0e"
      },
      "outputs": [],
      "source": [
        "# Normalizando os dados\n",
        "sc_X = StandardScaler()\n",
        "X_res = sc_X.fit_transform(X_res)"
      ]
    },
    {
      "cell_type": "code",
      "execution_count": null,
      "id": "048756e5",
      "metadata": {
        "id": "048756e5"
      },
      "outputs": [],
      "source": [
        "X_train_test, X_validation, y_train_test, y_validation = train_test_split(X_res, y_res, test_size=0.20, random_state=13)"
      ]
    },
    {
      "cell_type": "code",
      "execution_count": null,
      "id": "3aa61adc",
      "metadata": {
        "id": "3aa61adc"
      },
      "outputs": [],
      "source": [
        "# Instanciando o modelo de regressão logística\n",
        "modelo_reglog_v2_2 = LogisticRegression(random_state=0, max_iter=1000)\n",
        "\n",
        "# Instanciando o modelo de random forest\n",
        "modelo_ranfor_v2_2 = RandomForestClassifier()"
      ]
    },
    {
      "cell_type": "code",
      "execution_count": null,
      "id": "b1208ada",
      "metadata": {
        "id": "b1208ada"
      },
      "outputs": [],
      "source": [
        "# Ajustando os hiperparâmetros com cross validation - Versão 2.1\n",
        "\n",
        "resultado_reglog_v2_2 = cross_val_score(modelo_reglog_v2_2, X_train_test, y_train_test, cv=kfolds)\n",
        "resultado_ranfor_v2_2 = cross_val_score(modelo_ranfor_v2_2, X_train_test, y_train_test, cv=kfolds)"
      ]
    },
    {
      "cell_type": "code",
      "execution_count": null,
      "id": "2de82f4e",
      "metadata": {
        "id": "2de82f4e",
        "outputId": "a4b6817f-cb5f-488f-808f-34d47eb1e310"
      },
      "outputs": [
        {
          "name": "stdout",
          "output_type": "stream",
          "text": [
            "Versão 2.2 - Regressão Logistica: 0.82\n",
            "Versão 2.2 - Radom Forest: 0.84\n"
          ]
        }
      ],
      "source": [
        "print('Versão 2.2 - Regressão Logistica: {:.2}'.format(resultado_reglog_v2_2.mean())) \n",
        "print('Versão 2.2 - Radom Forest: {:.2}'.format(resultado_ranfor_v2_2.mean())) "
      ]
    },
    {
      "cell_type": "markdown",
      "id": "b35731ae",
      "metadata": {
        "id": "b35731ae"
      },
      "source": [
        "## Treinamento dos melhores modelos"
      ]
    },
    {
      "cell_type": "code",
      "execution_count": null,
      "id": "d6d9a922",
      "metadata": {
        "id": "d6d9a922"
      },
      "outputs": [],
      "source": [
        "modelo_reglog_v2_final = modelo_reglog_v2_2\n",
        "modelo_ranfor_v2_final = modelo_ranfor_v2_2"
      ]
    },
    {
      "cell_type": "code",
      "execution_count": null,
      "id": "2ef42043",
      "metadata": {
        "id": "2ef42043",
        "outputId": "b2552731-981b-4695-c706-052751082820"
      },
      "outputs": [
        {
          "data": {
            "text/plain": [
              "RandomForestClassifier()"
            ]
          },
          "execution_count": 103,
          "metadata": {},
          "output_type": "execute_result"
        }
      ],
      "source": [
        "modelo_reglog_v2_final.fit(X_train_test, y_train_test)\n",
        "modelo_ranfor_v2_final.fit(X_train_test, y_train_test)"
      ]
    },
    {
      "cell_type": "markdown",
      "id": "7cac8b5b",
      "metadata": {
        "id": "7cac8b5b"
      },
      "source": [
        "## Avaliação dos modelos"
      ]
    },
    {
      "cell_type": "code",
      "execution_count": null,
      "id": "f390a1f7",
      "metadata": {
        "id": "f390a1f7"
      },
      "outputs": [],
      "source": [
        "# Predição\n",
        "y_pred_reglog = modelo_reglog_v2_final.predict(X_validation)\n",
        "y_pred_ranfor = modelo_ranfor_v2_final.predict(X_validation)"
      ]
    },
    {
      "cell_type": "code",
      "execution_count": null,
      "id": "bedb8f86",
      "metadata": {
        "id": "bedb8f86",
        "outputId": "e31c2f34-ac8c-4b3f-fe7c-b2340d6af160"
      },
      "outputs": [
        {
          "name": "stdout",
          "output_type": "stream",
          "text": [
            "Acurácia:\n",
            "- regressão losgística: 0.80\n",
            "- randon forest: 0.81\n"
          ]
        }
      ],
      "source": [
        "# Acurácia\n",
        "print(\"Acurácia:\")\n",
        "print('- regressão losgística: {:.2F}'.format(accuracy_score(y_validation, y_pred_reglog)))\n",
        "print('- randon forest: {:.2F}'.format(accuracy_score(y_validation, y_pred_ranfor)))"
      ]
    },
    {
      "cell_type": "code",
      "execution_count": null,
      "id": "e7e917d2",
      "metadata": {
        "id": "e7e917d2",
        "outputId": "72033fdb-1666-4b03-ff18-11935c9bd5e0"
      },
      "outputs": [
        {
          "name": "stdout",
          "output_type": "stream",
          "text": [
            "Score f1:\n",
            "- regressão losgística é: 0.80\n",
            "- randon forest é: 0.81\n"
          ]
        }
      ],
      "source": [
        "# Score F1\n",
        "print(\"Score f1:\")\n",
        "print('- regressão losgística é: {:.2F}'.format(f1_score(y_validation, y_pred_reglog)))\n",
        "print('- randon forest é: {:.2F}'.format(f1_score(y_validation, y_pred_ranfor)))"
      ]
    },
    {
      "cell_type": "code",
      "execution_count": null,
      "id": "bb0419f3",
      "metadata": {
        "id": "bb0419f3",
        "outputId": "69f7c893-bb94-4dd5-e4ff-98cc7c20a635"
      },
      "outputs": [
        {
          "name": "stdout",
          "output_type": "stream",
          "text": [
            "Precision Score:\n",
            "- regressão losgística é: 0.79\n",
            "- randon forest é: 0.82\n"
          ]
        }
      ],
      "source": [
        "# Precision\n",
        "print(\"Precision Score:\")\n",
        "print('- regressão losgística é: {:.2F}'.format(precision_score(y_validation, y_pred_reglog)))\n",
        "print('- randon forest é: {:.2F}'.format(precision_score(y_validation, y_pred_ranfor)))"
      ]
    },
    {
      "cell_type": "code",
      "execution_count": null,
      "id": "4bf252b4",
      "metadata": {
        "id": "4bf252b4",
        "outputId": "0101e046-5006-42fd-e3b6-6002b469c3dd"
      },
      "outputs": [
        {
          "name": "stdout",
          "output_type": "stream",
          "text": [
            "Recall Score:\n",
            "- regressão losgística é: 0.82\n",
            "- randon forest é: 0.81\n"
          ]
        }
      ],
      "source": [
        "# Recall\n",
        "print(\"Recall Score:\")\n",
        "print('- regressão losgística é: {:.2F}'.format(recall_score(y_validation, y_pred_reglog)))\n",
        "print('- randon forest é: {:.2F}'.format(recall_score(y_validation, y_pred_ranfor)))"
      ]
    },
    {
      "cell_type": "markdown",
      "id": "dfc5bfe0",
      "metadata": {
        "id": "dfc5bfe0"
      },
      "source": [
        "# VERSÃO 03"
      ]
    },
    {
      "cell_type": "markdown",
      "id": "070c541e",
      "metadata": {
        "id": "070c541e"
      },
      "source": [
        "Infelizmente não consegui implementar a tempo a versão 03, iria utilizar algorítimos de features selectiom assim como algorítimos para encontrar a melhor configuração de hiperparâmetros para os modelos escolhidos."
      ]
    },
    {
      "cell_type": "markdown",
      "id": "bdbc36df",
      "metadata": {
        "id": "bdbc36df"
      },
      "source": [
        "# CONCLUSÃO "
      ]
    },
    {
      "cell_type": "markdown",
      "id": "20f0bf8d",
      "metadata": {
        "id": "20f0bf8d"
      },
      "source": [
        "Apesar do random forest 1.1 possuir melhores métricas, o 2.2 é mais aplicável, pois conta com menos features, além de ter sido balanceado o dataset. A versão 2.2 é menos precisa, porém caso fosse feita um melhor ajuste aos dados, tenho certeza iria possuir melhores avaliações, sendo isso um ponto a ser melhor estudado por mim."
      ]
    }
  ],
  "metadata": {
    "kernelspec": {
      "display_name": "Python 3 (ipykernel)",
      "language": "python",
      "name": "python3"
    },
    "language_info": {
      "codemirror_mode": {
        "name": "ipython",
        "version": 3
      },
      "file_extension": ".py",
      "mimetype": "text/x-python",
      "name": "python",
      "nbconvert_exporter": "python",
      "pygments_lexer": "ipython3",
      "version": "3.8.13"
    },
    "colab": {
      "provenance": []
    }
  },
  "nbformat": 4,
  "nbformat_minor": 5
}